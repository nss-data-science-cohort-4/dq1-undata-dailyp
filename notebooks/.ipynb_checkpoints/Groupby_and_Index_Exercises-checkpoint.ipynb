{
 "cells": [
  {
   "cell_type": "code",
   "execution_count": 1,
   "metadata": {},
   "outputs": [],
   "source": [
    "import pandas as pd"
   ]
  },
  {
   "cell_type": "markdown",
   "metadata": {},
   "source": [
    "We will be looking at a dataset showing traffic crash data for 2018. This was obtained from https://data.nashville.gov/."
   ]
  },
  {
   "cell_type": "code",
   "execution_count": 2,
   "metadata": {},
   "outputs": [],
   "source": [
    "crashes = pd.read_csv('../data/crashes_2018.csv')"
   ]
  },
  {
   "cell_type": "code",
   "execution_count": 3,
   "metadata": {},
   "outputs": [
    {
     "data": {
      "text/html": [
       "<div>\n",
       "<style scoped>\n",
       "    .dataframe tbody tr th:only-of-type {\n",
       "        vertical-align: middle;\n",
       "    }\n",
       "\n",
       "    .dataframe tbody tr th {\n",
       "        vertical-align: top;\n",
       "    }\n",
       "\n",
       "    .dataframe thead th {\n",
       "        text-align: right;\n",
       "    }\n",
       "</style>\n",
       "<table border=\"1\" class=\"dataframe\">\n",
       "  <thead>\n",
       "    <tr style=\"text-align: right;\">\n",
       "      <th></th>\n",
       "      <th>Accident Number</th>\n",
       "      <th>Date and Time</th>\n",
       "      <th>Number of Motor Vehicles</th>\n",
       "      <th>Number of Injuries</th>\n",
       "      <th>Number of Fatalities</th>\n",
       "      <th>Property Damage</th>\n",
       "      <th>Hit and Run</th>\n",
       "      <th>Reporting Officer</th>\n",
       "      <th>Collision Type Code</th>\n",
       "      <th>Collision Type Description</th>\n",
       "      <th>...</th>\n",
       "      <th>Harmful Code Description</th>\n",
       "      <th>Street Address</th>\n",
       "      <th>City</th>\n",
       "      <th>State</th>\n",
       "      <th>Zip</th>\n",
       "      <th>RPA</th>\n",
       "      <th>Precinct</th>\n",
       "      <th>Latitude</th>\n",
       "      <th>Longitude</th>\n",
       "      <th>Mapped Location</th>\n",
       "    </tr>\n",
       "  </thead>\n",
       "  <tbody>\n",
       "    <tr>\n",
       "      <th>0</th>\n",
       "      <td>20181075326</td>\n",
       "      <td>12/31/2018 11:10:00 PM</td>\n",
       "      <td>1.0</td>\n",
       "      <td>0</td>\n",
       "      <td>0</td>\n",
       "      <td>NaN</td>\n",
       "      <td>N</td>\n",
       "      <td>240964.0</td>\n",
       "      <td>0.0</td>\n",
       "      <td>NOT COLLISION W/MOTOR VEHICLE-TRANSPORT</td>\n",
       "      <td>...</td>\n",
       "      <td>CURB;SHRUBBERY</td>\n",
       "      <td>ROCKWOOD DR &amp; SADDLESTONE DR</td>\n",
       "      <td>HERMITAGE</td>\n",
       "      <td>TN</td>\n",
       "      <td>37076.0</td>\n",
       "      <td>9557.0</td>\n",
       "      <td>HERMIT</td>\n",
       "      <td>36.1769</td>\n",
       "      <td>-86.5971</td>\n",
       "      <td>(36.1769, -86.5971)</td>\n",
       "    </tr>\n",
       "    <tr>\n",
       "      <th>1</th>\n",
       "      <td>20181075323</td>\n",
       "      <td>12/31/2018 11:09:00 PM</td>\n",
       "      <td>3.0</td>\n",
       "      <td>1</td>\n",
       "      <td>0</td>\n",
       "      <td>NaN</td>\n",
       "      <td>N</td>\n",
       "      <td>110062.0</td>\n",
       "      <td>4.0</td>\n",
       "      <td>ANGLE</td>\n",
       "      <td>...</td>\n",
       "      <td>MOTOR VEHICLE IN TRANSPORT;PARKED MOTOR VEHICLE</td>\n",
       "      <td>SPRING ST &amp; N 1ST ST</td>\n",
       "      <td>NASHVILLE</td>\n",
       "      <td>TN</td>\n",
       "      <td>37213.0</td>\n",
       "      <td>1985.0</td>\n",
       "      <td>CENTRA</td>\n",
       "      <td>36.1770</td>\n",
       "      <td>-86.7746</td>\n",
       "      <td>(36.177, -86.7746)</td>\n",
       "    </tr>\n",
       "    <tr>\n",
       "      <th>2</th>\n",
       "      <td>20181075301</td>\n",
       "      <td>12/31/2018 10:55:00 PM</td>\n",
       "      <td>4.0</td>\n",
       "      <td>1</td>\n",
       "      <td>0</td>\n",
       "      <td>NaN</td>\n",
       "      <td>Y</td>\n",
       "      <td>405424.0</td>\n",
       "      <td>11.0</td>\n",
       "      <td>Front to Rear</td>\n",
       "      <td>...</td>\n",
       "      <td>MOTOR VEHICLE IN TRANSPORT</td>\n",
       "      <td>BELL RD &amp; ELM HILL PKE</td>\n",
       "      <td>NASHVILLE</td>\n",
       "      <td>TN</td>\n",
       "      <td>37214.0</td>\n",
       "      <td>8995.0</td>\n",
       "      <td>HERMIT</td>\n",
       "      <td>36.1411</td>\n",
       "      <td>-86.6280</td>\n",
       "      <td>(36.1411, -86.628)</td>\n",
       "    </tr>\n",
       "    <tr>\n",
       "      <th>3</th>\n",
       "      <td>20181075265</td>\n",
       "      <td>12/31/2018 10:44:00 PM</td>\n",
       "      <td>2.0</td>\n",
       "      <td>0</td>\n",
       "      <td>0</td>\n",
       "      <td>NaN</td>\n",
       "      <td>N</td>\n",
       "      <td>279112.0</td>\n",
       "      <td>4.0</td>\n",
       "      <td>ANGLE</td>\n",
       "      <td>...</td>\n",
       "      <td>MOTOR VEHICLE IN TRANSPORT</td>\n",
       "      <td>1ST AVS &amp; 1ST AVN</td>\n",
       "      <td>NASHVILLE</td>\n",
       "      <td>TN</td>\n",
       "      <td>37201.0</td>\n",
       "      <td>4095.0</td>\n",
       "      <td>CENTRA</td>\n",
       "      <td>36.1622</td>\n",
       "      <td>-86.7744</td>\n",
       "      <td>(36.1622, -86.7744)</td>\n",
       "    </tr>\n",
       "    <tr>\n",
       "      <th>4</th>\n",
       "      <td>20181075263</td>\n",
       "      <td>12/31/2018 10:42:00 PM</td>\n",
       "      <td>2.0</td>\n",
       "      <td>0</td>\n",
       "      <td>0</td>\n",
       "      <td>NaN</td>\n",
       "      <td>N</td>\n",
       "      <td>212307.0</td>\n",
       "      <td>4.0</td>\n",
       "      <td>ANGLE</td>\n",
       "      <td>...</td>\n",
       "      <td>MOTOR VEHICLE IN TRANSPORT</td>\n",
       "      <td>8TH AVS &amp; LAFAYETTE ST</td>\n",
       "      <td>NASHVILLE</td>\n",
       "      <td>TN</td>\n",
       "      <td>37203.0</td>\n",
       "      <td>4043.0</td>\n",
       "      <td>CENTRA</td>\n",
       "      <td>36.1546</td>\n",
       "      <td>-86.7792</td>\n",
       "      <td>(36.1546, -86.7792)</td>\n",
       "    </tr>\n",
       "  </tbody>\n",
       "</table>\n",
       "<p>5 rows × 25 columns</p>\n",
       "</div>"
      ],
      "text/plain": [
       "   Accident Number           Date and Time  Number of Motor Vehicles  \\\n",
       "0      20181075326  12/31/2018 11:10:00 PM                       1.0   \n",
       "1      20181075323  12/31/2018 11:09:00 PM                       3.0   \n",
       "2      20181075301  12/31/2018 10:55:00 PM                       4.0   \n",
       "3      20181075265  12/31/2018 10:44:00 PM                       2.0   \n",
       "4      20181075263  12/31/2018 10:42:00 PM                       2.0   \n",
       "\n",
       "   Number of Injuries  Number of Fatalities Property Damage Hit and Run  \\\n",
       "0                   0                     0             NaN           N   \n",
       "1                   1                     0             NaN           N   \n",
       "2                   1                     0             NaN           Y   \n",
       "3                   0                     0             NaN           N   \n",
       "4                   0                     0             NaN           N   \n",
       "\n",
       "   Reporting Officer  Collision Type Code  \\\n",
       "0           240964.0                  0.0   \n",
       "1           110062.0                  4.0   \n",
       "2           405424.0                 11.0   \n",
       "3           279112.0                  4.0   \n",
       "4           212307.0                  4.0   \n",
       "\n",
       "                Collision Type Description  ...  \\\n",
       "0  NOT COLLISION W/MOTOR VEHICLE-TRANSPORT  ...   \n",
       "1                                    ANGLE  ...   \n",
       "2                            Front to Rear  ...   \n",
       "3                                    ANGLE  ...   \n",
       "4                                    ANGLE  ...   \n",
       "\n",
       "                          Harmful Code Description  \\\n",
       "0                                   CURB;SHRUBBERY   \n",
       "1  MOTOR VEHICLE IN TRANSPORT;PARKED MOTOR VEHICLE   \n",
       "2                       MOTOR VEHICLE IN TRANSPORT   \n",
       "3                       MOTOR VEHICLE IN TRANSPORT   \n",
       "4                       MOTOR VEHICLE IN TRANSPORT   \n",
       "\n",
       "                 Street Address       City State      Zip     RPA Precinct  \\\n",
       "0  ROCKWOOD DR & SADDLESTONE DR  HERMITAGE    TN  37076.0  9557.0   HERMIT   \n",
       "1          SPRING ST & N 1ST ST  NASHVILLE    TN  37213.0  1985.0   CENTRA   \n",
       "2        BELL RD & ELM HILL PKE  NASHVILLE    TN  37214.0  8995.0   HERMIT   \n",
       "3             1ST AVS & 1ST AVN  NASHVILLE    TN  37201.0  4095.0   CENTRA   \n",
       "4        8TH AVS & LAFAYETTE ST  NASHVILLE    TN  37203.0  4043.0   CENTRA   \n",
       "\n",
       "  Latitude Longitude      Mapped Location  \n",
       "0  36.1769  -86.5971  (36.1769, -86.5971)  \n",
       "1  36.1770  -86.7746   (36.177, -86.7746)  \n",
       "2  36.1411  -86.6280   (36.1411, -86.628)  \n",
       "3  36.1622  -86.7744  (36.1622, -86.7744)  \n",
       "4  36.1546  -86.7792  (36.1546, -86.7792)  \n",
       "\n",
       "[5 rows x 25 columns]"
      ]
     },
     "execution_count": 3,
     "metadata": {},
     "output_type": "execute_result"
    }
   ],
   "source": [
    "crashes.head()"
   ]
  },
  {
   "cell_type": "markdown",
   "metadata": {},
   "source": [
    "**Exercise 1:** \n",
    " - Use `.value_counts()` to get a count of accidents by Precinct. Save the result as `count_by_precinct_vc`.\n",
    " - What type of object is `count_by_precinct_vc`?\n",
    " - Extract (as a number) the count of accidents that occurred in the North precinct from `count_by_precinct_vc`.\n",
    " - Using `.to_frame()` convert `count_by_precinct_vc` to a DataFrame. What do you notice about the column names? Why do you think this happened?\n",
    " - Modify the resulting DataFrame so that the precinct names are a regular column. What do you notice about the column names?"
   ]
  },
  {
   "cell_type": "code",
   "execution_count": 4,
   "metadata": {},
   "outputs": [
    {
     "name": "stdout",
     "output_type": "stream",
     "text": [
      "SOUTH     7405\n",
      "MIDTOW    5706\n",
      "HERMIT    5377\n",
      "NORTH     3519\n",
      "WEST      3419\n",
      "CENTRA    3187\n",
      "MADISO    2929\n",
      "EAST      2911\n",
      "Name: Precinct, dtype: int64\n"
     ]
    }
   ],
   "source": [
    "count_by_precinct_vc = crashes['Precinct'].value_counts()\n",
    "print(count_by_precinct_vc)"
   ]
  },
  {
   "cell_type": "code",
   "execution_count": 5,
   "metadata": {},
   "outputs": [
    {
     "data": {
      "text/plain": [
       "pandas.core.series.Series"
      ]
     },
     "execution_count": 5,
     "metadata": {},
     "output_type": "execute_result"
    }
   ],
   "source": [
    "type(count_by_precinct_vc)"
   ]
  },
  {
   "cell_type": "code",
   "execution_count": 48,
   "metadata": {},
   "outputs": [
    {
     "data": {
      "text/plain": [
       "3519"
      ]
     },
     "execution_count": 48,
     "metadata": {},
     "output_type": "execute_result"
    }
   ],
   "source": [
    "count_by_precinct_vc['NORTH']"
   ]
  },
  {
   "cell_type": "code",
   "execution_count": 7,
   "metadata": {},
   "outputs": [
    {
     "data": {
      "text/plain": [
       "numpy.int64"
      ]
     },
     "execution_count": 7,
     "metadata": {},
     "output_type": "execute_result"
    }
   ],
   "source": [
    "type(count_by_precinct_vc[5])"
   ]
  },
  {
   "cell_type": "code",
   "execution_count": 8,
   "metadata": {},
   "outputs": [
    {
     "data": {
      "text/html": [
       "<div>\n",
       "<style scoped>\n",
       "    .dataframe tbody tr th:only-of-type {\n",
       "        vertical-align: middle;\n",
       "    }\n",
       "\n",
       "    .dataframe tbody tr th {\n",
       "        vertical-align: top;\n",
       "    }\n",
       "\n",
       "    .dataframe thead th {\n",
       "        text-align: right;\n",
       "    }\n",
       "</style>\n",
       "<table border=\"1\" class=\"dataframe\">\n",
       "  <thead>\n",
       "    <tr style=\"text-align: right;\">\n",
       "      <th></th>\n",
       "      <th>Precinct</th>\n",
       "    </tr>\n",
       "  </thead>\n",
       "  <tbody>\n",
       "    <tr>\n",
       "      <th>SOUTH</th>\n",
       "      <td>7405</td>\n",
       "    </tr>\n",
       "    <tr>\n",
       "      <th>MIDTOW</th>\n",
       "      <td>5706</td>\n",
       "    </tr>\n",
       "    <tr>\n",
       "      <th>HERMIT</th>\n",
       "      <td>5377</td>\n",
       "    </tr>\n",
       "    <tr>\n",
       "      <th>NORTH</th>\n",
       "      <td>3519</td>\n",
       "    </tr>\n",
       "    <tr>\n",
       "      <th>WEST</th>\n",
       "      <td>3419</td>\n",
       "    </tr>\n",
       "    <tr>\n",
       "      <th>CENTRA</th>\n",
       "      <td>3187</td>\n",
       "    </tr>\n",
       "    <tr>\n",
       "      <th>MADISO</th>\n",
       "      <td>2929</td>\n",
       "    </tr>\n",
       "    <tr>\n",
       "      <th>EAST</th>\n",
       "      <td>2911</td>\n",
       "    </tr>\n",
       "  </tbody>\n",
       "</table>\n",
       "</div>"
      ],
      "text/plain": [
       "        Precinct\n",
       "SOUTH       7405\n",
       "MIDTOW      5706\n",
       "HERMIT      5377\n",
       "NORTH       3519\n",
       "WEST        3419\n",
       "CENTRA      3187\n",
       "MADISO      2929\n",
       "EAST        2911"
      ]
     },
     "execution_count": 8,
     "metadata": {},
     "output_type": "execute_result"
    }
   ],
   "source": [
    "count_by_precinct_vc.to_frame()"
   ]
  },
  {
   "cell_type": "code",
   "execution_count": 9,
   "metadata": {},
   "outputs": [],
   "source": [
    "# Precinct is the index, \"Precinct\" is showing as the column name.  Because it's a series, it is one-dimensional"
   ]
  },
  {
   "cell_type": "code",
   "execution_count": 10,
   "metadata": {},
   "outputs": [
    {
     "data": {
      "text/html": [
       "<div>\n",
       "<style scoped>\n",
       "    .dataframe tbody tr th:only-of-type {\n",
       "        vertical-align: middle;\n",
       "    }\n",
       "\n",
       "    .dataframe tbody tr th {\n",
       "        vertical-align: top;\n",
       "    }\n",
       "\n",
       "    .dataframe thead th {\n",
       "        text-align: right;\n",
       "    }\n",
       "</style>\n",
       "<table border=\"1\" class=\"dataframe\">\n",
       "  <thead>\n",
       "    <tr style=\"text-align: right;\">\n",
       "      <th></th>\n",
       "      <th>index</th>\n",
       "      <th>Precinct</th>\n",
       "    </tr>\n",
       "  </thead>\n",
       "  <tbody>\n",
       "    <tr>\n",
       "      <th>0</th>\n",
       "      <td>SOUTH</td>\n",
       "      <td>7405</td>\n",
       "    </tr>\n",
       "    <tr>\n",
       "      <th>1</th>\n",
       "      <td>MIDTOW</td>\n",
       "      <td>5706</td>\n",
       "    </tr>\n",
       "    <tr>\n",
       "      <th>2</th>\n",
       "      <td>HERMIT</td>\n",
       "      <td>5377</td>\n",
       "    </tr>\n",
       "    <tr>\n",
       "      <th>3</th>\n",
       "      <td>NORTH</td>\n",
       "      <td>3519</td>\n",
       "    </tr>\n",
       "    <tr>\n",
       "      <th>4</th>\n",
       "      <td>WEST</td>\n",
       "      <td>3419</td>\n",
       "    </tr>\n",
       "    <tr>\n",
       "      <th>5</th>\n",
       "      <td>CENTRA</td>\n",
       "      <td>3187</td>\n",
       "    </tr>\n",
       "    <tr>\n",
       "      <th>6</th>\n",
       "      <td>MADISO</td>\n",
       "      <td>2929</td>\n",
       "    </tr>\n",
       "    <tr>\n",
       "      <th>7</th>\n",
       "      <td>EAST</td>\n",
       "      <td>2911</td>\n",
       "    </tr>\n",
       "  </tbody>\n",
       "</table>\n",
       "</div>"
      ],
      "text/plain": [
       "    index  Precinct\n",
       "0   SOUTH      7405\n",
       "1  MIDTOW      5706\n",
       "2  HERMIT      5377\n",
       "3   NORTH      3519\n",
       "4    WEST      3419\n",
       "5  CENTRA      3187\n",
       "6  MADISO      2929\n",
       "7    EAST      2911"
      ]
     },
     "execution_count": 10,
     "metadata": {},
     "output_type": "execute_result"
    }
   ],
   "source": [
    "count_by_precinct_vc.reset_index()"
   ]
  },
  {
   "cell_type": "code",
   "execution_count": 11,
   "metadata": {},
   "outputs": [],
   "source": [
    "# both are now columns and parallel, but column names are incorrect.  Perhaps value_counts does not work for numeric variables"
   ]
  },
  {
   "cell_type": "markdown",
   "metadata": {},
   "source": [
    "**Exercise 2:**\n",
    " - Instead of `.value_counts`, get the count of accidents by precinct using `.groupby` and aggregate by `count()`. When you perform the aggregation, **do it on only a single column**. Save the result as `count_by_precinct_gb`.\n",
    " - What type of object is `count_by_precinct_gb`?\n",
    " - How is the result from using `.groupby` different from the result of `.value_counts()`?\n",
    " - Convert `count_by_precinct_gb` to a DataFrame using `.to_frame()`. You should probably notice something strange looking about the labels above the columns. Try and figure out what is going on. Hint: Take a look at the index of the resulting DataFrame.\n",
    " - Modify the DataFrame so that the precinct labels are a regular column."
   ]
  },
  {
   "cell_type": "code",
   "execution_count": 12,
   "metadata": {},
   "outputs": [
    {
     "data": {
      "text/plain": [
       "Precinct\n",
       "CENTRA    3187\n",
       "EAST      2911\n",
       "HERMIT    5377\n",
       "MADISO    2929\n",
       "MIDTOW    5706\n",
       "NORTH     3519\n",
       "SOUTH     7405\n",
       "WEST      3419\n",
       "Name: Accident Number, dtype: int64"
      ]
     },
     "execution_count": 12,
     "metadata": {},
     "output_type": "execute_result"
    }
   ],
   "source": [
    "count_by_precinct_gb = crashes.groupby('Precinct')['Accident Number'].count()\n",
    "count_by_precinct_gb"
   ]
  },
  {
   "cell_type": "code",
   "execution_count": 13,
   "metadata": {},
   "outputs": [
    {
     "data": {
      "text/plain": [
       "pandas.core.series.Series"
      ]
     },
     "execution_count": 13,
     "metadata": {},
     "output_type": "execute_result"
    }
   ],
   "source": [
    "type(count_by_precinct_gb)"
   ]
  },
  {
   "cell_type": "markdown",
   "metadata": {},
   "source": [
    "#Both result in pandas core series, but the value_counts returns in descending order and the name is Precinct with no column name, whereas groupby returns Accident Number as the name and has a column name (Precinct)"
   ]
  },
  {
   "cell_type": "code",
   "execution_count": 14,
   "metadata": {},
   "outputs": [
    {
     "data": {
      "text/html": [
       "<div>\n",
       "<style scoped>\n",
       "    .dataframe tbody tr th:only-of-type {\n",
       "        vertical-align: middle;\n",
       "    }\n",
       "\n",
       "    .dataframe tbody tr th {\n",
       "        vertical-align: top;\n",
       "    }\n",
       "\n",
       "    .dataframe thead th {\n",
       "        text-align: right;\n",
       "    }\n",
       "</style>\n",
       "<table border=\"1\" class=\"dataframe\">\n",
       "  <thead>\n",
       "    <tr style=\"text-align: right;\">\n",
       "      <th></th>\n",
       "      <th>Accident Number</th>\n",
       "    </tr>\n",
       "    <tr>\n",
       "      <th>Precinct</th>\n",
       "      <th></th>\n",
       "    </tr>\n",
       "  </thead>\n",
       "  <tbody>\n",
       "    <tr>\n",
       "      <th>CENTRA</th>\n",
       "      <td>3187</td>\n",
       "    </tr>\n",
       "    <tr>\n",
       "      <th>EAST</th>\n",
       "      <td>2911</td>\n",
       "    </tr>\n",
       "    <tr>\n",
       "      <th>HERMIT</th>\n",
       "      <td>5377</td>\n",
       "    </tr>\n",
       "    <tr>\n",
       "      <th>MADISO</th>\n",
       "      <td>2929</td>\n",
       "    </tr>\n",
       "    <tr>\n",
       "      <th>MIDTOW</th>\n",
       "      <td>5706</td>\n",
       "    </tr>\n",
       "    <tr>\n",
       "      <th>NORTH</th>\n",
       "      <td>3519</td>\n",
       "    </tr>\n",
       "    <tr>\n",
       "      <th>SOUTH</th>\n",
       "      <td>7405</td>\n",
       "    </tr>\n",
       "    <tr>\n",
       "      <th>WEST</th>\n",
       "      <td>3419</td>\n",
       "    </tr>\n",
       "  </tbody>\n",
       "</table>\n",
       "</div>"
      ],
      "text/plain": [
       "          Accident Number\n",
       "Precinct                 \n",
       "CENTRA               3187\n",
       "EAST                 2911\n",
       "HERMIT               5377\n",
       "MADISO               2929\n",
       "MIDTOW               5706\n",
       "NORTH                3519\n",
       "SOUTH                7405\n",
       "WEST                 3419"
      ]
     },
     "execution_count": 14,
     "metadata": {},
     "output_type": "execute_result"
    }
   ],
   "source": [
    "count_by_precinct_gb.to_frame()"
   ]
  },
  {
   "cell_type": "code",
   "execution_count": 15,
   "metadata": {},
   "outputs": [
    {
     "data": {
      "text/html": [
       "<div>\n",
       "<style scoped>\n",
       "    .dataframe tbody tr th:only-of-type {\n",
       "        vertical-align: middle;\n",
       "    }\n",
       "\n",
       "    .dataframe tbody tr th {\n",
       "        vertical-align: top;\n",
       "    }\n",
       "\n",
       "    .dataframe thead th {\n",
       "        text-align: right;\n",
       "    }\n",
       "</style>\n",
       "<table border=\"1\" class=\"dataframe\">\n",
       "  <thead>\n",
       "    <tr style=\"text-align: right;\">\n",
       "      <th></th>\n",
       "      <th>Precinct</th>\n",
       "      <th>Accident Number</th>\n",
       "    </tr>\n",
       "  </thead>\n",
       "  <tbody>\n",
       "    <tr>\n",
       "      <th>0</th>\n",
       "      <td>CENTRA</td>\n",
       "      <td>3187</td>\n",
       "    </tr>\n",
       "    <tr>\n",
       "      <th>1</th>\n",
       "      <td>EAST</td>\n",
       "      <td>2911</td>\n",
       "    </tr>\n",
       "    <tr>\n",
       "      <th>2</th>\n",
       "      <td>HERMIT</td>\n",
       "      <td>5377</td>\n",
       "    </tr>\n",
       "    <tr>\n",
       "      <th>3</th>\n",
       "      <td>MADISO</td>\n",
       "      <td>2929</td>\n",
       "    </tr>\n",
       "    <tr>\n",
       "      <th>4</th>\n",
       "      <td>MIDTOW</td>\n",
       "      <td>5706</td>\n",
       "    </tr>\n",
       "    <tr>\n",
       "      <th>5</th>\n",
       "      <td>NORTH</td>\n",
       "      <td>3519</td>\n",
       "    </tr>\n",
       "    <tr>\n",
       "      <th>6</th>\n",
       "      <td>SOUTH</td>\n",
       "      <td>7405</td>\n",
       "    </tr>\n",
       "    <tr>\n",
       "      <th>7</th>\n",
       "      <td>WEST</td>\n",
       "      <td>3419</td>\n",
       "    </tr>\n",
       "  </tbody>\n",
       "</table>\n",
       "</div>"
      ],
      "text/plain": [
       "  Precinct  Accident Number\n",
       "0   CENTRA             3187\n",
       "1     EAST             2911\n",
       "2   HERMIT             5377\n",
       "3   MADISO             2929\n",
       "4   MIDTOW             5706\n",
       "5    NORTH             3519\n",
       "6    SOUTH             7405\n",
       "7     WEST             3419"
      ]
     },
     "execution_count": 15,
     "metadata": {},
     "output_type": "execute_result"
    }
   ],
   "source": [
    "#fix column headers by resetting index\n",
    "count_by_precinct_gb.reset_index()"
   ]
  },
  {
   "cell_type": "markdown",
   "metadata": {},
   "source": [
    "**Exercise 3:**\n",
    " - Using a single `.groupby`, find the mean and max number of injuries by collision type description. Save this as `crashes_injuries`.\n",
    " - What type of object is `crashes_injuries`?\n",
    " - Extract from crashes_injuries (as a number), the mean number of crashes for head-on crashes.\n",
    " - Use `.reset_index()` on the resulting object.  What column names do you get when you do this?"
   ]
  },
  {
   "cell_type": "code",
   "execution_count": 21,
   "metadata": {},
   "outputs": [
    {
     "data": {
      "text/html": [
       "<div>\n",
       "<style scoped>\n",
       "    .dataframe tbody tr th:only-of-type {\n",
       "        vertical-align: middle;\n",
       "    }\n",
       "\n",
       "    .dataframe tbody tr th {\n",
       "        vertical-align: top;\n",
       "    }\n",
       "\n",
       "    .dataframe thead th {\n",
       "        text-align: right;\n",
       "    }\n",
       "</style>\n",
       "<table border=\"1\" class=\"dataframe\">\n",
       "  <thead>\n",
       "    <tr style=\"text-align: right;\">\n",
       "      <th></th>\n",
       "      <th>mean</th>\n",
       "      <th>max</th>\n",
       "    </tr>\n",
       "    <tr>\n",
       "      <th>Collision Type Description</th>\n",
       "      <th></th>\n",
       "      <th></th>\n",
       "    </tr>\n",
       "  </thead>\n",
       "  <tbody>\n",
       "    <tr>\n",
       "      <th>ANGLE</th>\n",
       "      <td>0.461604</td>\n",
       "      <td>10</td>\n",
       "    </tr>\n",
       "    <tr>\n",
       "      <th>Front to Rear</th>\n",
       "      <td>0.373557</td>\n",
       "      <td>12</td>\n",
       "    </tr>\n",
       "    <tr>\n",
       "      <th>HEAD-ON</th>\n",
       "      <td>0.892038</td>\n",
       "      <td>7</td>\n",
       "    </tr>\n",
       "    <tr>\n",
       "      <th>NOT COLLISION W/MOTOR VEHICLE-TRANSPORT</th>\n",
       "      <td>0.398344</td>\n",
       "      <td>7</td>\n",
       "    </tr>\n",
       "    <tr>\n",
       "      <th>OTHER</th>\n",
       "      <td>0.371882</td>\n",
       "      <td>5</td>\n",
       "    </tr>\n",
       "  </tbody>\n",
       "</table>\n",
       "</div>"
      ],
      "text/plain": [
       "                                             mean  max\n",
       "Collision Type Description                            \n",
       "ANGLE                                    0.461604   10\n",
       "Front to Rear                            0.373557   12\n",
       "HEAD-ON                                  0.892038    7\n",
       "NOT COLLISION W/MOTOR VEHICLE-TRANSPORT  0.398344    7\n",
       "OTHER                                    0.371882    5"
      ]
     },
     "execution_count": 21,
     "metadata": {},
     "output_type": "execute_result"
    }
   ],
   "source": [
    "crashes_injuries=crashes.groupby('Collision Type Description')['Number of Injuries'].agg(['mean','max'])\n",
    "crashes_injuries.head()"
   ]
  },
  {
   "cell_type": "code",
   "execution_count": 22,
   "metadata": {},
   "outputs": [
    {
     "data": {
      "text/plain": [
       "pandas.core.frame.DataFrame"
      ]
     },
     "execution_count": 22,
     "metadata": {},
     "output_type": "execute_result"
    }
   ],
   "source": [
    "type(crashes_injuries)"
   ]
  },
  {
   "cell_type": "code",
   "execution_count": 27,
   "metadata": {},
   "outputs": [
    {
     "data": {
      "text/plain": [
       "0.8920377867746289"
      ]
     },
     "execution_count": 27,
     "metadata": {},
     "output_type": "execute_result"
    }
   ],
   "source": [
    "# could also do .loc['HEAD-ON','mean']\n",
    "crashes_injuries['mean']['HEAD-ON']"
   ]
  },
  {
   "cell_type": "code",
   "execution_count": 28,
   "metadata": {},
   "outputs": [
    {
     "data": {
      "text/html": [
       "<div>\n",
       "<style scoped>\n",
       "    .dataframe tbody tr th:only-of-type {\n",
       "        vertical-align: middle;\n",
       "    }\n",
       "\n",
       "    .dataframe tbody tr th {\n",
       "        vertical-align: top;\n",
       "    }\n",
       "\n",
       "    .dataframe thead th {\n",
       "        text-align: right;\n",
       "    }\n",
       "</style>\n",
       "<table border=\"1\" class=\"dataframe\">\n",
       "  <thead>\n",
       "    <tr style=\"text-align: right;\">\n",
       "      <th></th>\n",
       "      <th>Collision Type Description</th>\n",
       "      <th>mean</th>\n",
       "      <th>max</th>\n",
       "    </tr>\n",
       "  </thead>\n",
       "  <tbody>\n",
       "    <tr>\n",
       "      <th>0</th>\n",
       "      <td>ANGLE</td>\n",
       "      <td>0.461604</td>\n",
       "      <td>10</td>\n",
       "    </tr>\n",
       "    <tr>\n",
       "      <th>1</th>\n",
       "      <td>Front to Rear</td>\n",
       "      <td>0.373557</td>\n",
       "      <td>12</td>\n",
       "    </tr>\n",
       "    <tr>\n",
       "      <th>2</th>\n",
       "      <td>HEAD-ON</td>\n",
       "      <td>0.892038</td>\n",
       "      <td>7</td>\n",
       "    </tr>\n",
       "    <tr>\n",
       "      <th>3</th>\n",
       "      <td>NOT COLLISION W/MOTOR VEHICLE-TRANSPORT</td>\n",
       "      <td>0.398344</td>\n",
       "      <td>7</td>\n",
       "    </tr>\n",
       "    <tr>\n",
       "      <th>4</th>\n",
       "      <td>OTHER</td>\n",
       "      <td>0.371882</td>\n",
       "      <td>5</td>\n",
       "    </tr>\n",
       "    <tr>\n",
       "      <th>5</th>\n",
       "      <td>REAR-TO-REAR</td>\n",
       "      <td>0.119760</td>\n",
       "      <td>2</td>\n",
       "    </tr>\n",
       "    <tr>\n",
       "      <th>6</th>\n",
       "      <td>Rear to Side</td>\n",
       "      <td>0.099138</td>\n",
       "      <td>2</td>\n",
       "    </tr>\n",
       "    <tr>\n",
       "      <th>7</th>\n",
       "      <td>SIDESWIPE - OPPOSITE DIRECTION</td>\n",
       "      <td>0.281593</td>\n",
       "      <td>9</td>\n",
       "    </tr>\n",
       "    <tr>\n",
       "      <th>8</th>\n",
       "      <td>SIDESWIPE - SAME DIRECTION</td>\n",
       "      <td>0.143079</td>\n",
       "      <td>7</td>\n",
       "    </tr>\n",
       "    <tr>\n",
       "      <th>9</th>\n",
       "      <td>UNKNOWN</td>\n",
       "      <td>0.120000</td>\n",
       "      <td>4</td>\n",
       "    </tr>\n",
       "  </tbody>\n",
       "</table>\n",
       "</div>"
      ],
      "text/plain": [
       "                Collision Type Description      mean  max\n",
       "0                                    ANGLE  0.461604   10\n",
       "1                            Front to Rear  0.373557   12\n",
       "2                                  HEAD-ON  0.892038    7\n",
       "3  NOT COLLISION W/MOTOR VEHICLE-TRANSPORT  0.398344    7\n",
       "4                                    OTHER  0.371882    5\n",
       "5                             REAR-TO-REAR  0.119760    2\n",
       "6                             Rear to Side  0.099138    2\n",
       "7           SIDESWIPE - OPPOSITE DIRECTION  0.281593    9\n",
       "8               SIDESWIPE - SAME DIRECTION  0.143079    7\n",
       "9                                  UNKNOWN  0.120000    4"
      ]
     },
     "execution_count": 28,
     "metadata": {},
     "output_type": "execute_result"
    }
   ],
   "source": [
    "crashes_injuries.reset_index()"
   ]
  },
  {
   "cell_type": "markdown",
   "metadata": {},
   "source": [
    "**Exercise 4:**\n",
    " - Use a single `.groupby` to get a count of the number of each Collision Type Description that occurred within each precinct. As in Exercise 2, when you perform the aggregation, do it on only a single column. Save the resulting object as `type_by_precinct`. \n",
    " - What type of object is `type_by_precinct`?\n",
    " - How is the index of this object different than the results of the exercises above?\n",
    " - Without resetting the index, extract (as a number) the count of head-on collisions that occurred in the South precinct."
   ]
  },
  {
   "cell_type": "code",
   "execution_count": 41,
   "metadata": {},
   "outputs": [
    {
     "data": {
      "text/plain": [
       "Precinct  Collision Type Description             \n",
       "CENTRA    Front to Rear                              1066\n",
       "          SIDESWIPE - SAME DIRECTION                  831\n",
       "          ANGLE                                       767\n",
       "          NOT COLLISION W/MOTOR VEHICLE-TRANSPORT     325\n",
       "          SIDESWIPE - OPPOSITE DIRECTION               55\n",
       "Name: Collision Type Description, dtype: int64"
      ]
     },
     "execution_count": 41,
     "metadata": {},
     "output_type": "execute_result"
    }
   ],
   "source": [
    "type_by_precinct = crashes.groupby('Precinct')['Collision Type Description'].value_counts()\n",
    "type_by_precinct.head()"
   ]
  },
  {
   "cell_type": "code",
   "execution_count": 57,
   "metadata": {},
   "outputs": [
    {
     "data": {
      "text/plain": [
       "Precinct  Collision Type Description             \n",
       "CENTRA    ANGLE                                       767\n",
       "          Front to Rear                              1066\n",
       "          HEAD-ON                                      51\n",
       "          NOT COLLISION W/MOTOR VEHICLE-TRANSPORT     325\n",
       "          OTHER                                        41\n",
       "                                                     ... \n",
       "WEST      REAR-TO-REAR                                 15\n",
       "          Rear to Side                                 25\n",
       "          SIDESWIPE - OPPOSITE DIRECTION               81\n",
       "          SIDESWIPE - SAME DIRECTION                  329\n",
       "          UNKNOWN                                      34\n",
       "Name: Accident Number, Length: 80, dtype: int64"
      ]
     },
     "execution_count": 57,
     "metadata": {},
     "output_type": "execute_result"
    }
   ],
   "source": [
    "type_by_precinct = crashes.groupby(['Precinct', 'Collision Type Description'])['Accident Number'].count()\n",
    "type_by_precinct"
   ]
  },
  {
   "cell_type": "code",
   "execution_count": 60,
   "metadata": {},
   "outputs": [
    {
     "data": {
      "text/plain": [
       "161"
      ]
     },
     "execution_count": 60,
     "metadata": {},
     "output_type": "execute_result"
    }
   ],
   "source": [
    "type_by_precinct.loc[('SOUTH','HEAD-ON')]"
   ]
  },
  {
   "cell_type": "code",
   "execution_count": 33,
   "metadata": {},
   "outputs": [
    {
     "data": {
      "text/plain": [
       "pandas.core.series.Series"
      ]
     },
     "execution_count": 33,
     "metadata": {},
     "output_type": "execute_result"
    }
   ],
   "source": [
    "type(type_by_precinct)"
   ]
  },
  {
   "cell_type": "markdown",
   "metadata": {},
   "source": [
    "Precinct is the index, but have 2 columns (Collision Type, count). Previous were 'one-to-one', this one is 'one-to-many'. _"
   ]
  },
  {
   "cell_type": "code",
   "execution_count": 45,
   "metadata": {},
   "outputs": [
    {
     "data": {
      "text/plain": [
       "161"
      ]
     },
     "execution_count": 45,
     "metadata": {},
     "output_type": "execute_result"
    }
   ],
   "source": [
    "type_by_precinct.loc['SOUTH']['HEAD-ON']"
   ]
  },
  {
   "cell_type": "code",
   "execution_count": null,
   "metadata": {},
   "outputs": [],
   "source": []
  },
  {
   "cell_type": "code",
   "execution_count": null,
   "metadata": {},
   "outputs": [],
   "source": []
  }
 ],
 "metadata": {
  "kernelspec": {
   "display_name": "Python 3",
   "language": "python",
   "name": "python3"
  },
  "language_info": {
   "codemirror_mode": {
    "name": "ipython",
    "version": 3
   },
   "file_extension": ".py",
   "mimetype": "text/x-python",
   "name": "python",
   "nbconvert_exporter": "python",
   "pygments_lexer": "ipython3",
   "version": "3.8.3"
  }
 },
 "nbformat": 4,
 "nbformat_minor": 2
}
